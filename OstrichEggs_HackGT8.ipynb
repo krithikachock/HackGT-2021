{
  "cells": [
    {
      "cell_type": "code",
      "execution_count": 1,
      "metadata": {
        "id": "prKo0yFdAQ6m",
        "pycharm": {
          "name": "#%% \n"
        }
      },
      "outputs": [],
      "source": [
        "#This cell is based on the work of Ayan Paul et al\n",
        "import numpy as np                              \n",
        "import pandas as pd                             \n",
        "import sklearn.model_selection as ms            \n",
        "import matplotlib.pyplot as plt                 \n",
        "import sys\n",
        "import os\n",
        "import ast\n",
        "import urllib.request as req                    \n",
        "census_key = \"6565205267ce8e6b218d4f8f6cf3b2eb3003f572\"\n",
        "population_density_url = 'https://api.census.gov/data/2019/pep/population?get=DENSITY&in=state:*&for=county:*&key={}'.format(census_key)\n",
        "above_65_url = 'https://api.census.gov/data/2018/acs/acs5/subject?get=GEO_ID,NAME,S0101_C02_030E&in=state:*&for=county:*&key={}'.format(census_key)\n",
        "transport_url = 'https://api.census.gov/data/2018/acs/acs5?get=GEO_ID,NAME,B08006_001E,B08006_003E,B08006_017E&in=state:*&for=county:*&key={}'.format(census_key)\n",
        "race_url = 'https://api.census.gov/data/2018/acs/acs5/profile?get=GEO_ID,NAME,DP05_0070E,DP05_0077E&in=state:*&for=county:*&key={}'.format(census_key)\n",
        "poverty_url = 'https://api.census.gov/data/2018/acs/acs5/subject?get=GEO_ID,NAME,S1701_C03_001E&in=state:*&for=county:*&key={}'.format(census_key)\n",
        "income_url = 'https://api.census.gov/data/2018/acs/acs5/subject?get=GEO_ID,NAME,S1902_C03_019E&in=state:*&for=county:*&key={}'.format(census_key)\n",
        "employed_url = 'https://api.census.gov/data/2018/acs/acs5/subject?get=GEO_ID,NAME,S2301_C03_001E&in=state:*&for=county:*&key={}'.format(census_key)\n",
        "unemployment_url = 'https://api.census.gov/data/2018/acs/acs5/subject?get=GEO_ID,NAME,S2301_C04_001E&in=state:*&for=county:*&key={}'.format(census_key)\n",
        "mean_commute_url = 'https://api.census.gov/data/2018/acs/acs5/subject?get=GEO_ID,NAME,S0801_C01_046E&in=state:*&for=county:*&key={}'.format(census_key)\n",
        "labour_url = 'https://api.census.gov/data/2018/acs/acs5/profile?get=GEO_ID,NAME,DP03_0028PE,DP03_0030PE,DP03_0031PE&in=state:*&for=county:*&key={}'.format(census_key)\n",
        "insurance_url = 'https://api.census.gov/data/2018/acs/acs5/profile?get=GEO_ID,NAME,DP03_0099PE&in=state:*&for=county:*&key={}'.format(census_key)\n",
        "jhu_deaths = 'https://raw.githubusercontent.com/CSSEGISandData/COVID-19/master/csse_covid_19_data/csse_covid_19_time_series/time_series_covid19_deaths_US.csv'\n",
        "jhu_confirmed = 'https://raw.githubusercontent.com/CSSEGISandData/COVID-19/master/csse_covid_19_data/csse_covid_19_time_series/time_series_covid19_confirmed_US.csv'"
      ]
    },
    {
      "cell_type": "code",
      "execution_count": 2,
      "metadata": {
        "id": "hkQEIloNAQ6x",
        "pycharm": {
          "name": "#%%\n"
        }
      },
      "outputs": [],
      "source": [
        "#This cell is based on the work of Ayan Paul et al\n",
        "def get_census_data(url):\n",
        "    df = pd.DataFrame(ast.literal_eval(req.urlopen(req.Request(url)).read().decode('utf8').replace('null', '\"1\"')))\n",
        "    df.columns = df.iloc[0]\n",
        "    df = df[1:]\n",
        "    df['FIPS'] = df.pop('GEO_ID').apply(lambda x: int(x[-5:]))\n",
        "    return df"
      ]
    },
    {
      "cell_type": "code",
      "execution_count": 3,
      "metadata": {
        "id": "lh38NkWyAQ61",
        "pycharm": {
          "name": "#%% \n"
        }
      },
      "outputs": [],
      "source": [
        "#This cell is based on the work of Ayan Paul et al\n",
        "density = pd.DataFrame(ast.literal_eval(req.urlopen(req.Request(population_density_url)).read().decode('utf8').replace('null', '\"0\"')))\n",
        "density.columns = density.iloc[0]\n",
        "density = density[1:]\n",
        "density.DENSITY = density.DENSITY.astype('float32')\n",
        "density.state = density.state.astype('string')\n",
        "density.county = density.county.astype('string')\n",
        "density['FIPS'] = density['state'] + density['county']\n",
        "density.FIPS = density.FIPS.astype('int32')\n",
        "density = density.drop(labels=['state', 'county'], axis=1)\n",
        "columns = density.columns.tolist()\n",
        "columns = columns[::-1]\n",
        "density = density[columns]\n",
        "density.drop(density[density['DENSITY'] == 0].index , inplace=True)\n",
        "density.DENSITY = np.log10(density.DENSITY)\n",
        "density.rename(columns={'DENSITY': 'Density'}, inplace=True)"
      ]
    },
    {
      "cell_type": "code",
      "execution_count": 4,
      "metadata": {
        "colab": {
          "base_uri": "https://localhost:8080/"
        },
        "id": "ToMAwV3sAQ63",
        "outputId": "8aa31e7a-f56e-46a2-f76c-55f71074ae50",
        "pycharm": {
          "name": "#%%\n"
        }
      },
      "outputs": [
        {
          "name": "stdout",
          "output_type": "stream",
          "text": [
            "FIPS        18174.500000\n",
            "10/20/21       26.000000\n",
            "rate            0.011957\n",
            "Name: 0.25, dtype: float64\n",
            "FIPS        29174.000000\n",
            "10/20/21       64.000000\n",
            "rate            0.016207\n",
            "Name: 0.5, dtype: float64\n",
            "FIPS        45079.500000\n",
            "10/20/21      157.000000\n",
            "rate            0.021858\n",
            "Name: 0.75, dtype: float64\n"
          ]
        },
        {
          "name": "stderr",
          "output_type": "stream",
          "text": [
            "/usr/local/lib/python3.7/dist-packages/ipykernel_launcher.py:10: SettingWithCopyWarning: \n",
            "A value is trying to be set on a copy of a slice from a DataFrame.\n",
            "Try using .loc[row_indexer,col_indexer] = value instead\n",
            "\n",
            "See the caveats in the documentation: https://pandas.pydata.org/pandas-docs/stable/user_guide/indexing.html#returning-a-view-versus-a-copy\n",
            "  # Remove the CWD from sys.path while we load stuff.\n"
          ]
        }
      ],
      "source": [
        "deaths = pd.read_csv(jhu_deaths)\n",
        "deaths.drop(deaths[(deaths['FIPS'] < 1000) | (deaths['FIPS'] > 57000)].index , inplace=True)\n",
        "deaths.dropna(inplace=True)\n",
        "confirmed = pd.read_csv(jhu_confirmed)\n",
        "confirmed.drop(confirmed[(confirmed['FIPS'] < 1000) | (confirmed['FIPS'] > 57000)].index , inplace=True)\n",
        "confirmed.dropna(inplace=True)\n",
        "deaths_df = deaths[['FIPS', '10/20/21']]\n",
        "confirmed_df = confirmed[['FIPS', '10/20/21']]\n",
        "fatality_rate = deaths_df\n",
        "fatality_rate['rate'] = (deaths_df['10/20/21'] / confirmed_df['10/20/21'] )\n",
        "q1 = fatality_rate.quantile(.25)\n",
        "q2 = fatality_rate.quantile(.5)\n",
        "q3 = fatality_rate.quantile(.75)\n",
        "print(q1)\n",
        "print(q2)\n",
        "print(q3)"
      ]
    },
    {
      "cell_type": "code",
      "execution_count": null,
      "metadata": {
        "id": "hhUmpt-6JCke"
      },
      "outputs": [],
      "source": [
        "conditions = [\n",
        "    (fatality_rate['rate'] <= 0.011957),\n",
        "    (fatality_rate['rate'] > 0.011957) & (fatality_rate['rate'] <= 0.016207),\n",
        "    (fatality_rate['rate'] > 0.016207) & (fatality_rate['rate'] <= 0.021858),\n",
        "    (fatality_rate['rate'] > 0.021858)\n",
        "    ]\n",
        "\n",
        "values = [1,2,3,4]\n",
        "fatality_rate['rate_q'] = np.select(conditions, values)"
      ]
    },
    {
      "cell_type": "code",
      "execution_count": 6,
      "metadata": {
        "colab": {
          "base_uri": "https://localhost:8080/"
        },
        "id": "_HnT1PvhAQ64",
        "outputId": "75043989-18e5-4257-de3a-95c04247edca"
      },
      "outputs": [
        {
          "name": "stderr",
          "output_type": "stream",
          "text": [
            "/usr/local/lib/python3.7/dist-packages/pandas/core/frame.py:4308: SettingWithCopyWarning: \n",
            "A value is trying to be set on a copy of a slice from a DataFrame\n",
            "\n",
            "See the caveats in the documentation: https://pandas.pydata.org/pandas-docs/stable/user_guide/indexing.html#returning-a-view-versus-a-copy\n",
            "  errors=errors,\n"
          ]
        }
      ],
      "source": [
        "#This cell is based on the work of Ayan Paul et al\n",
        "# The FIPS and state names\n",
        "df_census = get_census_data(above_65_url)\n",
        "df_census = df_census[['FIPS', 'NAME']]\n",
        "df_census['State'] = df_census.pop('NAME').str.split(', ').str[1]\n",
        "df_census = df_census.sort_values(df_census.columns[0], ignore_index=True)\n",
        "df_census = pd.merge(df_census, density, on='FIPS')\n",
        "\n",
        "# 2018 5 year ACS data on Age\n",
        "dft = get_census_data(above_65_url)\n",
        "dft = dft[['FIPS', 'S0101_C02_030E']]\n",
        "dft.rename(columns={'S0101_C02_030E': 'Senior Citizen'}, inplace=True)\n",
        "df_census = pd.merge(df_census, dft, on='FIPS')\n",
        "df_census['Senior Citizen'] = df_census['Senior Citizen'].apply(lambda x: float(x))/100.\n",
        "\n",
        "# 2018 5 year ACS data on transport used\n",
        "dft = get_census_data(transport_url)\n",
        "dft['Transit-1'] = 1. - (dft['B08006_003E'].astype('float')+dft['B08006_017E'].astype('float'))/dft['B08006_001E'].astype('float')\n",
        "dft = dft[['FIPS', 'Transit-1']]\n",
        "df_census = pd.merge(df_census, dft, on='FIPS')\n",
        "df_census['Transit'] = df_census.pop('Transit-1')\n",
        "df_census.at[df_census[df_census['FIPS']==35039].index, 'Transit'] = 0.159 ## Imputed value from 2011 since values are null in 2018\n",
        "\n",
        "# 2018 5 year ACS data on non-white\n",
        "dft = get_census_data(race_url)\n",
        "# dft['Non-White'] = 1. - dft['B02001_002E'].astype('float')/dft['B02001_001E'].astype('float')\n",
        "dft['Non-White'] = 1. - dft['DP05_0077E'].astype('float')/dft['DP05_0070E'].astype('float')\n",
        "dft = dft[['FIPS', 'Non-White']]\n",
        "df_census = pd.merge(df_census, dft, on='FIPS')\n",
        "\n",
        "# 2018 5 year ACS data on Poverty\n",
        "dft = get_census_data(poverty_url)\n",
        "dft = dft[['FIPS', 'S1701_C03_001E']]\n",
        "dft.rename(columns={'S1701_C03_001E': 'Poverty-1'}, inplace=True)\n",
        "df_census = pd.merge(df_census, dft, on='FIPS')\n",
        "df_census['Poverty'] = df_census.pop('Poverty-1').apply(lambda x: float(x))/100.\n",
        "df_census.at[df_census[df_census['FIPS']==35039].index, 'Poverty'] = 0.237 ## Imputed value from 2011 since values are null in 2018\n",
        "\n",
        "# 2018 5 year ACS data on Income per capita\n",
        "dft = get_census_data(income_url)\n",
        "dft = dft[['FIPS', 'S1902_C03_019E']]\n",
        "dft.rename(columns={'S1902_C03_019E': 'Income/Capita'}, inplace=True)\n",
        "df_census = pd.merge(df_census, dft, on='FIPS')\n",
        "df_census['Income/Capita'] = df_census['Income/Capita'].apply(lambda x: float(x))\n",
        "df_census.at[df_census[df_census['FIPS']==35039].index, 'Income/Capita'] = 19678 ## Imputed value from 2011 since values are null in 2018\n",
        "\n",
        "# 2018 5 year ACS data on Employment\n",
        "dft = get_census_data(employed_url)\n",
        "dft = dft[['FIPS', 'S2301_C03_001E']]\n",
        "dft.rename(columns={'S2301_C03_001E': 'Employed-1'}, inplace=True)\n",
        "df_census = pd.merge(df_census, dft, on='FIPS')\n",
        "df_census['Employed'] = df_census.pop('Employed-1').apply(lambda x: float(x))/100.\n",
        "df_census.at[df_census[df_census['FIPS']==35039].index, 'Employed'] = 0.382287 ## Imputed value from 2011 since values are null in 2018\n",
        "\n",
        "# 2018 5 year ACS data on Unemployment\n",
        "dft = get_census_data(unemployment_url)\n",
        "dft = dft[['FIPS', 'S2301_C04_001E']]\n",
        "dft.rename(columns={'S2301_C04_001E': 'Unemployment-1'}, inplace=True)\n",
        "df_census = pd.merge(df_census, dft, on='FIPS')\n",
        "df_census['Unemployment'] = df_census.pop('Unemployment-1').apply(lambda x: float(x))/100.\n",
        "df_census.at[df_census[df_census['FIPS']==35039].index, 'Unemployment'] = 0.114 ## Imputed value from 2011 since values are null in 2018\n",
        "\n",
        "# 2018 5 year ACS data on Mean Commute in minutes\n",
        "dft = get_census_data(mean_commute_url)\n",
        "dft = dft[['FIPS', 'S0801_C01_046E']]\n",
        "dft.rename(columns={'S0801_C01_046E': 'MeanCommute'}, inplace=True)\n",
        "df_census = pd.merge(df_census, dft, on='FIPS')\n",
        "df_census['MeanCommute'] = df_census['MeanCommute'].apply(lambda x: float(x))\n",
        "df_census.at[df_census[df_census['FIPS']==35039].index, 'MeanCommute'] = 26.2 ## Imputed value from 2011 since values are null in 2018\n",
        "df_census.at[df_census[df_census['FIPS']==48301].index, 'MeanCommute'] = 25.4 ## Imputed value from 2011 since values are null in 2018\n",
        "\n",
        "# 2018 5 year ACS data on Labour\n",
        "dft = get_census_data(labour_url)\n",
        "dft['Labour'] = (dft['DP03_0028PE'].astype('float') + dft['DP03_0030PE'].astype('float') + dft['DP03_0031PE'].astype('float'))/100.\n",
        "dft = dft[['FIPS', 'Labour']]\n",
        "df_census = pd.merge(df_census, dft, on='FIPS')\n",
        "df_census.at[df_census[df_census['FIPS']==35039].index, 'Labour'] = 0.271 + 0.108 + 0.07 ## Imputed value from 2011 since values are null in 2018\n",
        "\n",
        "# 2018 5 year ACS data on Health Insurance\n",
        "dft = get_census_data(insurance_url)\n",
        "dft = dft[['FIPS', 'DP03_0099PE']]\n",
        "dft.rename(columns={'DP03_0099PE': 'Uninsured'}, inplace=True)\n",
        "df_census = pd.merge(df_census, dft, on='FIPS')\n",
        "df_census['Uninsured'] = df_census.pop('Uninsured').apply(lambda x: float(x))/100."
      ]
    },
    {
      "cell_type": "code",
      "execution_count": 7,
      "metadata": {
        "id": "SztSbc_-AQ65",
        "pycharm": {
          "name": "#%%\n"
        }
      },
      "outputs": [],
      "source": [
        "# Collecting all the necessary features into one dataframe\n",
        "df_census_curated = pd.DataFrame()\n",
        "df_census_curated['FIPS'] = df_census['FIPS']\n",
        "df_census_curated['State'] = df_census['State']\n",
        "df_census_curated['Density'] = df_census['Density']\n",
        "df_census_curated['Non-White'] = df_census['Non-White']\n",
        "df_census_curated['Poverty'] = df_census['Poverty']\n",
        "df_census_curated['Income'] = df_census['Income/Capita']\n",
        "df_census_curated['Unemployment'] = df_census['Unemployment']\n",
        "df_census_curated['Uninsured'] = df_census['Uninsured']\n",
        "df_census_curated['Employed'] = df_census['Employed']\n",
        "df_census_curated['Labor'] = df_census['Labour']\n",
        "df_census_curated['Transit'] = df_census['Transit']\n",
        "df_census_curated['Mean Commute'] = df_census['MeanCommute']\n",
        "df_census_curated['Senior Citizen'] = df_census['Senior Citizen']"
      ]
    },
    {
      "cell_type": "code",
      "execution_count": 9,
      "metadata": {
        "id": "hmUNdJghCh4c"
      },
      "outputs": [],
      "source": [
        "df_census_curated_new = df_census_curated.merge(fatality_rate, on='FIPS')"
      ]
    },
    {
      "cell_type": "code",
      "execution_count": 10,
      "metadata": {
        "id": "526-600ZQaqq"
      },
      "outputs": [],
      "source": [
        "df_state = df_census_curated_new.loc[df_census_curated_new['State'] == \"California\"]\n",
        "#California Texas Florida New York pennsylvania "
      ]
    },
    {
      "cell_type": "code",
      "execution_count": 11,
      "metadata": {
        "id": "dQjDhhy1Dh2J"
      },
      "outputs": [],
      "source": [
        "df_census_curated_new_dropped = df_census_curated_new.drop(columns=['FIPS', 'State'])"
      ]
    },
    {
      "cell_type": "code",
      "execution_count": 12,
      "metadata": {
        "id": "1Mkt-utFQtuz"
      },
      "outputs": [],
      "source": [
        "df_state = df_state.drop(columns=['FIPS', 'State'])"
      ]
    },
    {
      "cell_type": "code",
      "execution_count": 13,
      "metadata": {
        "id": "9gSwXdjZQwjI"
      },
      "outputs": [],
      "source": [
        "y_state = df_state['rate_q'].values"
      ]
    },
    {
      "cell_type": "code",
      "execution_count": 14,
      "metadata": {
        "id": "iRfub8r-D8HP"
      },
      "outputs": [],
      "source": [
        "y = df_census_curated_new_dropped['rate_q'].values"
      ]
    },
    {
      "cell_type": "code",
      "execution_count": 15,
      "metadata": {
        "id": "Arp8LaJFFpSs"
      },
      "outputs": [],
      "source": [
        "df_x = df_census_curated_new_dropped.drop(columns=['rate_q','rate','10/20/21'])"
      ]
    },
    {
      "cell_type": "code",
      "execution_count": 16,
      "metadata": {
        "id": "CQsMg3IOFwbH"
      },
      "outputs": [],
      "source": [
        "df_x_state = df_state.drop(columns=['rate_q','rate','10/20/21'])"
      ]
    },
    {
      "cell_type": "code",
      "execution_count": 17,
      "metadata": {
        "id": "GcGdz5Y1DwsA"
      },
      "outputs": [],
      "source": [
        "from sklearn.model_selection import train_test_split\n",
        "X_train, X_test, y_train, y_test = train_test_split(df_x_state, y_state, test_size=0.3) "
      ]
    },
    {
      "cell_type": "code",
      "execution_count": 18,
      "metadata": {
        "colab": {
          "base_uri": "https://localhost:8080/"
        },
        "id": "tIg6UKAMEA7E",
        "outputId": "625e163a-bc5a-4ea5-bdf7-99b52fa5a471"
      },
      "outputs": [
        {
          "name": "stdout",
          "output_type": "stream",
          "text": [
            "0.925\n"
          ]
        }
      ],
      "source": [
        "from sklearn.ensemble import RandomForestClassifier\n",
        "clf=RandomForestClassifier(n_estimators=10, max_features = None)\n",
        "print(clf.fit(X_train,y_train).score(X_train, y_train))"
      ]
    },
    {
      "cell_type": "code",
      "execution_count": 19,
      "metadata": {
        "id": "lcGrxr5AI9Mu"
      },
      "outputs": [],
      "source": [
        "from sklearn.inspection import permutation_importance\n",
        "importance = permutation_importance(clf,df_x_state,y_state,scoring='recall_weighted',n_repeats=100,n_jobs=-1,random_state=0)"
      ]
    },
    {
      "cell_type": "code",
      "execution_count": null,
      "metadata": {
        "id": "ceEjKiMYJnEk"
      },
      "outputs": [],
      "source": [
        "sorted_idx = importance.importances_mean.argsort()[::-1]\n",
        "sorted_idx = sorted_idx[0:101]\n",
        "arr1 = df_x_state.columns[sorted_idx]\n",
        "list1 = arr1.tolist()\n",
        "print(list1)\n",
        "arr2 = importance.importances_mean[sorted_idx]\n",
        "list2 = arr2.tolist()\n",
        "print(list2)\n",
        "list3 = sorted_idx.tolist()\n",
        "print(list3)"
      ]
    },
    {
      "cell_type": "code",
      "execution_count": 21,
      "metadata": {
        "id": "fgFkBe3M5TlA"
      },
      "outputs": [],
      "source": [
        "Cali_var = ['Mean Commute', 'Income', 'Density', 'Unemployment', 'Transit', 'Senior Citizen', 'Non-White', 'Labor', 'Poverty', 'Employed', 'Uninsured']\n",
        "Cali_val = [0.09362068965517242, 0.06775862068965519, 0.06500000000000002, 0.04120689655172417, 0.03172413793103452, 0.02293103448275865, 0.015344827586206927, 0.009482758620689678, 0.006034482758620734, 0.0, 0.0]\n",
        "Tex_var = ['Labor', 'Poverty', 'Employed', 'Density', 'Senior Citizen', 'Non-White', 'Transit', 'Unemployment', 'Mean Commute', 'Uninsured', 'Income']\n",
        "Tex_val = [0.09625984251968506, 0.0916929133858268, 0.09082677165354332, 0.06590551181102361, 0.03795275590551184, 0.035511811023622074, 0.03346456692913389, 0.024724409448818898, 0.02043307086614172, 0.014566929133858255, 0.008385826771653528]\n",
        "Florida_var = ['Senior Citizen', 'Mean Commute', 'Density', 'Transit', 'Poverty', 'Uninsured', 'Employed', 'Non-White', 'Labor', 'Unemployment', 'Income']\n",
        "Florida_val = [0.16298507462686562, 0.03955223880597009, 0.036865671641790984, 0.023432835820895476, 0.02119402985074622, 0.0025373134328357826, -0.002388059701492572, -0.004179104477611972, -0.004477611940298546, -0.008059701492537336, -0.016865671641791095]\n",
        "NY_var = ['Senior Citizen', 'Uninsured', 'Non-White', 'Density', 'Unemployment', 'Labor', 'Employed', 'Mean Commute', 'Income', 'Poverty', 'Transit']\n",
        "NY_val = [0.14274193548387093, 0.07290322580645157, 0.06322580645161287, 0.03532258064516126, 0.030967741935483843, 0.027741935483870942, 0.005483870967741931, 0.005483870967741928, 0.002741935483870962, 0.00032258064516129005, -0.009354838709677417]\n",
        "Penn_var = ['Income', 'Senior Citizen', 'Poverty', 'Mean Commute', 'Employed', 'Density', 'Unemployment', 'Transit', 'Labor', 'Uninsured', 'Non-White']\n",
        "Penn_val = [0.22044776119402978, 0.1667164179104477, 0.1016417910447761, 0.06492537313432833, 0.03701492537313431, 0.014328358208955186, 0.012985074626865609, 0.010895522388059669, 0.01044776119402981, 0.00820895522388056, 0.0035820895522387765]"
      ]
    },
    {
      "cell_type": "code",
      "execution_count": 22,
      "metadata": {
        "colab": {
          "base_uri": "https://localhost:8080/",
          "height": 368
        },
        "id": "hgZXO5aE7ALY",
        "outputId": "196d8e56-0a42-4f69-b97c-c331bb5b0b21"
      },
      "outputs": [
        {
          "data": {
            "image/png": "[encoded data removed]",
            "text/plain": [
              "<Figure size 432x288 with 1 Axes>"
            ]
          },
          "metadata": {},
          "output_type": "display_data"
        }
      ],
      "source": [
        "import matplotlib.pyplot as plt\n",
        "%matplotlib inline\n",
        "plt.style.use('ggplot')\n",
        "x_pos = [i for i, _ in enumerate(Penn_var)]\n",
        "plt.bar(x_pos, Penn_val, color='blue')\n",
        "plt.xlabel(\"Socioeconomic Factors\")\n",
        "plt.ylabel(\"Feature Importance\")\n",
        "plt.title(\"Feature Importance of each Socioeconomic Factor\")\n",
        "plt.xticks(x_pos, Penn_var,rotation = 90)\n",
        "plt.show()"
      ]
    }
  ],
  "metadata": {
    "colab": {
      "collapsed_sections": [],
      "name": "HACKGT.ipynb",
      "provenance": []
    },
    "kernelspec": {
      "display_name": "Python 3",
      "language": "python",
      "name": "python3"
    },
    "language_info": {
      "codemirror_mode": {
        "name": "ipython",
        "version": 3
      },
      "file_extension": ".py",
      "mimetype": "text/x-python",
      "name": "python",
      "nbconvert_exporter": "python",
      "pygments_lexer": "ipython3",
      "version": "3.8.8"
    }
  },
  "nbformat": 4,
  "nbformat_minor": 0
}
